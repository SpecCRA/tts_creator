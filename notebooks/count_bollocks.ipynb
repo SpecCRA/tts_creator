{
 "cells": [
  {
   "cell_type": "code",
   "execution_count": 14,
   "metadata": {},
   "outputs": [],
   "source": [
    "import json\n",
    "import os\n",
    "import re\n",
    "import gc\n",
    "from pathlib import Path\n",
    "\n",
    "from pydub import AudioSegment"
   ]
  },
  {
   "cell_type": "code",
   "execution_count": 15,
   "metadata": {},
   "outputs": [],
   "source": [
    "transcriptions_filepath = Path(\"../data/temp/transcriptions.json\")\n",
    "\n",
    "with open(transcriptions_filepath, \"r\") as f:\n",
    "    transcriptions = json.load(f)"
   ]
  },
  {
   "cell_type": "code",
   "execution_count": 16,
   "metadata": {},
   "outputs": [
    {
     "data": {
      "text/plain": [
       "{'start': 0.0,\n",
       " 'end': 66.78,\n",
       " 'text': ' Stay in double file. Nettopp car on the left clear on the left.'}"
      ]
     },
     "execution_count": 16,
     "metadata": {},
     "output_type": "execute_result"
    }
   ],
   "source": [
    "transcriptions[\"lck_stream_01.mp3\"][0]"
   ]
  },
  {
   "cell_type": "code",
   "execution_count": 23,
   "metadata": {},
   "outputs": [],
   "source": [
    "bollocks_count = 0\n",
    "\n",
    "for stream_name, data in transcriptions.items():\n",
    "    for transcript in data:\n",
    "        matches = re.findall(r\"bollocks\", transcript[\"text\"], re.IGNORECASE)\n",
    "        bollocks_count += len(matches)"
   ]
  },
  {
   "cell_type": "code",
   "execution_count": null,
   "metadata": {},
   "outputs": [
    {
     "name": "stdout",
     "output_type": "stream",
     "text": [
      "Total number of times bollocks was said in 5 streams: 45\n"
     ]
    }
   ],
   "source": [
    "print(f\"Total number of times bollocks was said in {len(transcriptions)} streams: {bollocks_count}\")"
   ]
  },
  {
   "cell_type": "code",
   "execution_count": 6,
   "metadata": {},
   "outputs": [],
   "source": [
    "# AUDIO_FILES_PATH = Path(\"../data/cache/\")\n",
    "\n",
    "# # count up how many total hours of audio we have\n",
    "# # only use the streams that already have transcriptions\n",
    "# streams_available = list(transcriptions.keys())\n",
    "\n",
    "# total_hours = 0\n",
    "\n",
    "# for stream_name in os.listdir(AUDIO_FILES_PATH):\n",
    "#     print(stream_name)\n",
    "#     if stream_name in streams_available:\n",
    "#         audio_file = AudioSegment.from_mp3(AUDIO_FILES_PATH / stream_name)\n",
    "#         total_duration_ms = len(audio_file)\n",
    "#         total_duration_hours = total_duration_ms / (1000 * 60 * 60)\n",
    "#         total_hours += total_duration_hours\n",
    "#         del audio_file\n",
    "#         gc.collect()\n",
    "\n",
    "# print(f\"Total hours of audio: {total_hours}\")"
   ]
  },
  {
   "cell_type": "code",
   "execution_count": 7,
   "metadata": {},
   "outputs": [
    {
     "data": {
      "text/plain": [
       "dict_keys(['lck_stream_2023_12_18.mp3', 'lck_stream_02.mp3', 'lck_sample_01.mp3', 'lck_stream_01.mp3', 'lck_stream_2023_12_22.mp3'])"
      ]
     },
     "execution_count": 7,
     "metadata": {},
     "output_type": "execute_result"
    }
   ],
   "source": [
    "transcriptions.keys()"
   ]
  },
  {
   "cell_type": "code",
   "execution_count": null,
   "metadata": {},
   "outputs": [],
   "source": [
    "s = \"00:01:00, 03:16:18, 05:43:23, 04:05:50, 02:45:47\"\n",
    "\n"
   ]
  },
  {
   "cell_type": "code",
   "execution_count": 8,
   "metadata": {},
   "outputs": [
    {
     "data": {
      "text/plain": [
       "14"
      ]
     },
     "execution_count": 8,
     "metadata": {},
     "output_type": "execute_result"
    }
   ],
   "source": [
    "0 + 3 + 5 + 4 + 2"
   ]
  },
  {
   "cell_type": "code",
   "execution_count": 9,
   "metadata": {},
   "outputs": [
    {
     "data": {
      "text/plain": [
       "110"
      ]
     },
     "execution_count": 9,
     "metadata": {},
     "output_type": "execute_result"
    }
   ],
   "source": [
    "1+16+43+5+45"
   ]
  },
  {
   "cell_type": "code",
   "execution_count": 10,
   "metadata": {},
   "outputs": [
    {
     "data": {
      "text/plain": [
       "138"
      ]
     },
     "execution_count": 10,
     "metadata": {},
     "output_type": "execute_result"
    }
   ],
   "source": [
    "0 + 18 + 23 + 50 + 47"
   ]
  },
  {
   "cell_type": "code",
   "execution_count": 11,
   "metadata": {},
   "outputs": [
    {
     "data": {
      "text/plain": [
       "15.871666666666668"
      ]
     },
     "execution_count": 11,
     "metadata": {},
     "output_type": "execute_result"
    }
   ],
   "source": [
    "14 + 110/60 + 138/60/60"
   ]
  },
  {
   "cell_type": "code",
   "execution_count": 12,
   "metadata": {},
   "outputs": [
    {
     "data": {
      "text/plain": [
       "2.835240995484616"
      ]
     },
     "execution_count": 12,
     "metadata": {},
     "output_type": "execute_result"
    }
   ],
   "source": [
    "45 / 15.871666666666668"
   ]
  },
  {
   "cell_type": "code",
   "execution_count": 13,
   "metadata": {},
   "outputs": [
    {
     "data": {
      "text/plain": [
       "138.23166666666665"
      ]
     },
     "execution_count": 13,
     "metadata": {},
     "output_type": "execute_result"
    }
   ],
   "source": [
    "8293.9/ 60 "
   ]
  }
 ],
 "metadata": {
  "kernelspec": {
   "display_name": "tts-Eh4q6c48-py3.11",
   "language": "python",
   "name": "python3"
  },
  "language_info": {
   "codemirror_mode": {
    "name": "ipython",
    "version": 3
   },
   "file_extension": ".py",
   "mimetype": "text/x-python",
   "name": "python",
   "nbconvert_exporter": "python",
   "pygments_lexer": "ipython3",
   "version": "3.11.6"
  }
 },
 "nbformat": 4,
 "nbformat_minor": 2
}
