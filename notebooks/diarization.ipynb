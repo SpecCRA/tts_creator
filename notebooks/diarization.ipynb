{
 "cells": [
  {
   "cell_type": "code",
   "execution_count": 1,
   "metadata": {},
   "outputs": [
    {
     "name": "stdout",
     "output_type": "stream",
     "text": [
      "Requirement already satisfied: pyannote.audio in /home/specc/.cache/pypoetry/virtualenvs/tts-Eh4q6c48-py3.11/lib/python3.11/site-packages (3.1.0)\n",
      "Requirement already satisfied: asteroid-filterbanks>=0.4 in /home/specc/.cache/pypoetry/virtualenvs/tts-Eh4q6c48-py3.11/lib/python3.11/site-packages (from pyannote.audio) (0.4.0)\n",
      "Requirement already satisfied: einops>=0.6.0 in /home/specc/.cache/pypoetry/virtualenvs/tts-Eh4q6c48-py3.11/lib/python3.11/site-packages (from pyannote.audio) (0.7.0)\n",
      "Requirement already satisfied: huggingface-hub>=0.13.0 in /home/specc/.cache/pypoetry/virtualenvs/tts-Eh4q6c48-py3.11/lib/python3.11/site-packages (from pyannote.audio) (0.19.4)\n",
      "Requirement already satisfied: lightning>=2.0.1 in /home/specc/.cache/pypoetry/virtualenvs/tts-Eh4q6c48-py3.11/lib/python3.11/site-packages (from pyannote.audio) (2.1.2)\n",
      "Requirement already satisfied: omegaconf<3.0,>=2.1 in /home/specc/.cache/pypoetry/virtualenvs/tts-Eh4q6c48-py3.11/lib/python3.11/site-packages (from pyannote.audio) (2.3.0)\n",
      "Requirement already satisfied: pyannote.core>=5.0.0 in /home/specc/.cache/pypoetry/virtualenvs/tts-Eh4q6c48-py3.11/lib/python3.11/site-packages (from pyannote.audio) (5.0.0)\n",
      "Requirement already satisfied: pyannote.database>=5.0.1 in /home/specc/.cache/pypoetry/virtualenvs/tts-Eh4q6c48-py3.11/lib/python3.11/site-packages (from pyannote.audio) (5.0.1)\n",
      "Requirement already satisfied: pyannote.metrics>=3.2 in /home/specc/.cache/pypoetry/virtualenvs/tts-Eh4q6c48-py3.11/lib/python3.11/site-packages (from pyannote.audio) (3.2.1)\n",
      "Requirement already satisfied: pyannote.pipeline>=3.0.1 in /home/specc/.cache/pypoetry/virtualenvs/tts-Eh4q6c48-py3.11/lib/python3.11/site-packages (from pyannote.audio) (3.0.1)\n",
      "Requirement already satisfied: pytorch-metric-learning>=2.1.0 in /home/specc/.cache/pypoetry/virtualenvs/tts-Eh4q6c48-py3.11/lib/python3.11/site-packages (from pyannote.audio) (2.3.0)\n",
      "Requirement already satisfied: rich>=12.0.0 in /home/specc/.cache/pypoetry/virtualenvs/tts-Eh4q6c48-py3.11/lib/python3.11/site-packages (from pyannote.audio) (13.7.0)\n",
      "Requirement already satisfied: semver>=3.0.0 in /home/specc/.cache/pypoetry/virtualenvs/tts-Eh4q6c48-py3.11/lib/python3.11/site-packages (from pyannote.audio) (3.0.2)\n",
      "Requirement already satisfied: soundfile>=0.12.1 in /home/specc/.cache/pypoetry/virtualenvs/tts-Eh4q6c48-py3.11/lib/python3.11/site-packages (from pyannote.audio) (0.12.1)\n",
      "Requirement already satisfied: speechbrain>=0.5.14 in /home/specc/.cache/pypoetry/virtualenvs/tts-Eh4q6c48-py3.11/lib/python3.11/site-packages (from pyannote.audio) (0.5.16)\n",
      "Requirement already satisfied: tensorboardX>=2.6 in /home/specc/.cache/pypoetry/virtualenvs/tts-Eh4q6c48-py3.11/lib/python3.11/site-packages (from pyannote.audio) (2.6.2.2)\n",
      "Requirement already satisfied: torch>=2.0.0 in /home/specc/.cache/pypoetry/virtualenvs/tts-Eh4q6c48-py3.11/lib/python3.11/site-packages (from pyannote.audio) (2.1.2)\n",
      "Requirement already satisfied: torch-audiomentations>=0.11.0 in /home/specc/.cache/pypoetry/virtualenvs/tts-Eh4q6c48-py3.11/lib/python3.11/site-packages (from pyannote.audio) (0.11.0)\n",
      "Requirement already satisfied: torchaudio>=2.0.0 in /home/specc/.cache/pypoetry/virtualenvs/tts-Eh4q6c48-py3.11/lib/python3.11/site-packages (from pyannote.audio) (2.1.2)\n",
      "Requirement already satisfied: torchmetrics>=0.11.0 in /home/specc/.cache/pypoetry/virtualenvs/tts-Eh4q6c48-py3.11/lib/python3.11/site-packages (from pyannote.audio) (1.2.0)\n",
      "Requirement already satisfied: numpy in /home/specc/.cache/pypoetry/virtualenvs/tts-Eh4q6c48-py3.11/lib/python3.11/site-packages (from asteroid-filterbanks>=0.4->pyannote.audio) (1.26.2)\n",
      "Requirement already satisfied: typing-extensions in /home/specc/.cache/pypoetry/virtualenvs/tts-Eh4q6c48-py3.11/lib/python3.11/site-packages (from asteroid-filterbanks>=0.4->pyannote.audio) (4.8.0)\n",
      "Requirement already satisfied: filelock in /home/specc/.cache/pypoetry/virtualenvs/tts-Eh4q6c48-py3.11/lib/python3.11/site-packages (from huggingface-hub>=0.13.0->pyannote.audio) (3.13.1)\n",
      "Requirement already satisfied: fsspec>=2023.5.0 in /home/specc/.cache/pypoetry/virtualenvs/tts-Eh4q6c48-py3.11/lib/python3.11/site-packages (from huggingface-hub>=0.13.0->pyannote.audio) (2023.10.0)\n",
      "Requirement already satisfied: requests in /home/specc/.cache/pypoetry/virtualenvs/tts-Eh4q6c48-py3.11/lib/python3.11/site-packages (from huggingface-hub>=0.13.0->pyannote.audio) (2.31.0)\n",
      "Requirement already satisfied: tqdm>=4.42.1 in /home/specc/.cache/pypoetry/virtualenvs/tts-Eh4q6c48-py3.11/lib/python3.11/site-packages (from huggingface-hub>=0.13.0->pyannote.audio) (4.66.1)\n",
      "Requirement already satisfied: pyyaml>=5.1 in /home/specc/.cache/pypoetry/virtualenvs/tts-Eh4q6c48-py3.11/lib/python3.11/site-packages (from huggingface-hub>=0.13.0->pyannote.audio) (6.0.1)\n",
      "Requirement already satisfied: packaging>=20.9 in /home/specc/.cache/pypoetry/virtualenvs/tts-Eh4q6c48-py3.11/lib/python3.11/site-packages (from huggingface-hub>=0.13.0->pyannote.audio) (23.2)\n",
      "Requirement already satisfied: lightning-utilities<2.0,>=0.8.0 in /home/specc/.cache/pypoetry/virtualenvs/tts-Eh4q6c48-py3.11/lib/python3.11/site-packages (from lightning>=2.0.1->pyannote.audio) (0.10.0)\n",
      "Requirement already satisfied: pytorch-lightning in /home/specc/.cache/pypoetry/virtualenvs/tts-Eh4q6c48-py3.11/lib/python3.11/site-packages (from lightning>=2.0.1->pyannote.audio) (2.1.2)\n",
      "Requirement already satisfied: antlr4-python3-runtime==4.9.* in /home/specc/.cache/pypoetry/virtualenvs/tts-Eh4q6c48-py3.11/lib/python3.11/site-packages (from omegaconf<3.0,>=2.1->pyannote.audio) (4.9.3)\n",
      "Requirement already satisfied: sortedcontainers>=2.0.4 in /home/specc/.cache/pypoetry/virtualenvs/tts-Eh4q6c48-py3.11/lib/python3.11/site-packages (from pyannote.core>=5.0.0->pyannote.audio) (2.4.0)\n",
      "Requirement already satisfied: scipy>=1.1 in /home/specc/.cache/pypoetry/virtualenvs/tts-Eh4q6c48-py3.11/lib/python3.11/site-packages (from pyannote.core>=5.0.0->pyannote.audio) (1.11.4)\n",
      "Requirement already satisfied: pandas>=0.19 in /home/specc/.cache/pypoetry/virtualenvs/tts-Eh4q6c48-py3.11/lib/python3.11/site-packages (from pyannote.database>=5.0.1->pyannote.audio) (2.1.3)\n",
      "Requirement already satisfied: typer[all]>=0.2.1 in /home/specc/.cache/pypoetry/virtualenvs/tts-Eh4q6c48-py3.11/lib/python3.11/site-packages (from pyannote.database>=5.0.1->pyannote.audio) (0.9.0)\n",
      "Requirement already satisfied: scikit-learn>=0.17.1 in /home/specc/.cache/pypoetry/virtualenvs/tts-Eh4q6c48-py3.11/lib/python3.11/site-packages (from pyannote.metrics>=3.2->pyannote.audio) (1.3.2)\n",
      "Requirement already satisfied: docopt>=0.6.2 in /home/specc/.cache/pypoetry/virtualenvs/tts-Eh4q6c48-py3.11/lib/python3.11/site-packages (from pyannote.metrics>=3.2->pyannote.audio) (0.6.2)\n",
      "Requirement already satisfied: tabulate>=0.7.7 in /home/specc/.cache/pypoetry/virtualenvs/tts-Eh4q6c48-py3.11/lib/python3.11/site-packages (from pyannote.metrics>=3.2->pyannote.audio) (0.9.0)\n",
      "Requirement already satisfied: matplotlib>=2.0.0 in /home/specc/.cache/pypoetry/virtualenvs/tts-Eh4q6c48-py3.11/lib/python3.11/site-packages (from pyannote.metrics>=3.2->pyannote.audio) (3.8.2)\n",
      "Requirement already satisfied: sympy>=1.1 in /home/specc/.cache/pypoetry/virtualenvs/tts-Eh4q6c48-py3.11/lib/python3.11/site-packages (from pyannote.metrics>=3.2->pyannote.audio) (1.12)\n",
      "Requirement already satisfied: optuna>=3.1 in /home/specc/.cache/pypoetry/virtualenvs/tts-Eh4q6c48-py3.11/lib/python3.11/site-packages (from pyannote.pipeline>=3.0.1->pyannote.audio) (3.4.0)\n",
      "Requirement already satisfied: markdown-it-py>=2.2.0 in /home/specc/.cache/pypoetry/virtualenvs/tts-Eh4q6c48-py3.11/lib/python3.11/site-packages (from rich>=12.0.0->pyannote.audio) (3.0.0)\n",
      "Requirement already satisfied: pygments<3.0.0,>=2.13.0 in /home/specc/.cache/pypoetry/virtualenvs/tts-Eh4q6c48-py3.11/lib/python3.11/site-packages (from rich>=12.0.0->pyannote.audio) (2.17.2)\n",
      "Requirement already satisfied: cffi>=1.0 in /home/specc/.cache/pypoetry/virtualenvs/tts-Eh4q6c48-py3.11/lib/python3.11/site-packages (from soundfile>=0.12.1->pyannote.audio) (1.16.0)\n",
      "Requirement already satisfied: hyperpyyaml in /home/specc/.cache/pypoetry/virtualenvs/tts-Eh4q6c48-py3.11/lib/python3.11/site-packages (from speechbrain>=0.5.14->pyannote.audio) (1.2.2)\n",
      "Requirement already satisfied: joblib in /home/specc/.cache/pypoetry/virtualenvs/tts-Eh4q6c48-py3.11/lib/python3.11/site-packages (from speechbrain>=0.5.14->pyannote.audio) (1.3.2)\n",
      "Requirement already satisfied: sentencepiece in /home/specc/.cache/pypoetry/virtualenvs/tts-Eh4q6c48-py3.11/lib/python3.11/site-packages (from speechbrain>=0.5.14->pyannote.audio) (0.1.99)\n",
      "Requirement already satisfied: protobuf>=3.20 in /home/specc/.cache/pypoetry/virtualenvs/tts-Eh4q6c48-py3.11/lib/python3.11/site-packages (from tensorboardX>=2.6->pyannote.audio) (4.25.1)\n",
      "Requirement already satisfied: networkx in /home/specc/.cache/pypoetry/virtualenvs/tts-Eh4q6c48-py3.11/lib/python3.11/site-packages (from torch>=2.0.0->pyannote.audio) (3.2.1)\n",
      "Requirement already satisfied: jinja2 in /home/specc/.cache/pypoetry/virtualenvs/tts-Eh4q6c48-py3.11/lib/python3.11/site-packages (from torch>=2.0.0->pyannote.audio) (3.1.2)\n",
      "Requirement already satisfied: nvidia-cuda-nvrtc-cu12==12.1.105 in /home/specc/.cache/pypoetry/virtualenvs/tts-Eh4q6c48-py3.11/lib/python3.11/site-packages (from torch>=2.0.0->pyannote.audio) (12.1.105)\n",
      "Requirement already satisfied: nvidia-cuda-runtime-cu12==12.1.105 in /home/specc/.cache/pypoetry/virtualenvs/tts-Eh4q6c48-py3.11/lib/python3.11/site-packages (from torch>=2.0.0->pyannote.audio) (12.1.105)\n",
      "Requirement already satisfied: nvidia-cuda-cupti-cu12==12.1.105 in /home/specc/.cache/pypoetry/virtualenvs/tts-Eh4q6c48-py3.11/lib/python3.11/site-packages (from torch>=2.0.0->pyannote.audio) (12.1.105)\n",
      "Requirement already satisfied: nvidia-cudnn-cu12==8.9.2.26 in /home/specc/.cache/pypoetry/virtualenvs/tts-Eh4q6c48-py3.11/lib/python3.11/site-packages (from torch>=2.0.0->pyannote.audio) (8.9.2.26)\n",
      "Requirement already satisfied: nvidia-cublas-cu12==12.1.3.1 in /home/specc/.cache/pypoetry/virtualenvs/tts-Eh4q6c48-py3.11/lib/python3.11/site-packages (from torch>=2.0.0->pyannote.audio) (12.1.3.1)\n",
      "Requirement already satisfied: nvidia-cufft-cu12==11.0.2.54 in /home/specc/.cache/pypoetry/virtualenvs/tts-Eh4q6c48-py3.11/lib/python3.11/site-packages (from torch>=2.0.0->pyannote.audio) (11.0.2.54)\n",
      "Requirement already satisfied: nvidia-curand-cu12==10.3.2.106 in /home/specc/.cache/pypoetry/virtualenvs/tts-Eh4q6c48-py3.11/lib/python3.11/site-packages (from torch>=2.0.0->pyannote.audio) (10.3.2.106)\n",
      "Requirement already satisfied: nvidia-cusolver-cu12==11.4.5.107 in /home/specc/.cache/pypoetry/virtualenvs/tts-Eh4q6c48-py3.11/lib/python3.11/site-packages (from torch>=2.0.0->pyannote.audio) (11.4.5.107)\n",
      "Requirement already satisfied: nvidia-cusparse-cu12==12.1.0.106 in /home/specc/.cache/pypoetry/virtualenvs/tts-Eh4q6c48-py3.11/lib/python3.11/site-packages (from torch>=2.0.0->pyannote.audio) (12.1.0.106)\n",
      "Requirement already satisfied: nvidia-nccl-cu12==2.18.1 in /home/specc/.cache/pypoetry/virtualenvs/tts-Eh4q6c48-py3.11/lib/python3.11/site-packages (from torch>=2.0.0->pyannote.audio) (2.18.1)\n",
      "Requirement already satisfied: nvidia-nvtx-cu12==12.1.105 in /home/specc/.cache/pypoetry/virtualenvs/tts-Eh4q6c48-py3.11/lib/python3.11/site-packages (from torch>=2.0.0->pyannote.audio) (12.1.105)\n",
      "Requirement already satisfied: triton==2.1.0 in /home/specc/.cache/pypoetry/virtualenvs/tts-Eh4q6c48-py3.11/lib/python3.11/site-packages (from torch>=2.0.0->pyannote.audio) (2.1.0)\n",
      "Requirement already satisfied: nvidia-nvjitlink-cu12 in /home/specc/.cache/pypoetry/virtualenvs/tts-Eh4q6c48-py3.11/lib/python3.11/site-packages (from nvidia-cusolver-cu12==11.4.5.107->torch>=2.0.0->pyannote.audio) (12.3.101)\n",
      "Requirement already satisfied: julius<0.3,>=0.2.3 in /home/specc/.cache/pypoetry/virtualenvs/tts-Eh4q6c48-py3.11/lib/python3.11/site-packages (from torch-audiomentations>=0.11.0->pyannote.audio) (0.2.7)\n",
      "Requirement already satisfied: librosa>=0.6.0 in /home/specc/.cache/pypoetry/virtualenvs/tts-Eh4q6c48-py3.11/lib/python3.11/site-packages (from torch-audiomentations>=0.11.0->pyannote.audio) (0.10.1)\n",
      "Requirement already satisfied: torch-pitch-shift>=1.2.2 in /home/specc/.cache/pypoetry/virtualenvs/tts-Eh4q6c48-py3.11/lib/python3.11/site-packages (from torch-audiomentations>=0.11.0->pyannote.audio) (1.2.4)\n",
      "Requirement already satisfied: pycparser in /home/specc/.cache/pypoetry/virtualenvs/tts-Eh4q6c48-py3.11/lib/python3.11/site-packages (from cffi>=1.0->soundfile>=0.12.1->pyannote.audio) (2.21)\n",
      "Requirement already satisfied: aiohttp!=4.0.0a0,!=4.0.0a1 in /home/specc/.cache/pypoetry/virtualenvs/tts-Eh4q6c48-py3.11/lib/python3.11/site-packages (from fsspec>=2023.5.0->huggingface-hub>=0.13.0->pyannote.audio) (3.9.1)\n",
      "Requirement already satisfied: audioread>=2.1.9 in /home/specc/.cache/pypoetry/virtualenvs/tts-Eh4q6c48-py3.11/lib/python3.11/site-packages (from librosa>=0.6.0->torch-audiomentations>=0.11.0->pyannote.audio) (3.0.1)\n",
      "Requirement already satisfied: decorator>=4.3.0 in /home/specc/.cache/pypoetry/virtualenvs/tts-Eh4q6c48-py3.11/lib/python3.11/site-packages (from librosa>=0.6.0->torch-audiomentations>=0.11.0->pyannote.audio) (4.4.2)\n",
      "Requirement already satisfied: numba>=0.51.0 in /home/specc/.cache/pypoetry/virtualenvs/tts-Eh4q6c48-py3.11/lib/python3.11/site-packages (from librosa>=0.6.0->torch-audiomentations>=0.11.0->pyannote.audio) (0.58.1)\n",
      "Requirement already satisfied: pooch>=1.0 in /home/specc/.cache/pypoetry/virtualenvs/tts-Eh4q6c48-py3.11/lib/python3.11/site-packages (from librosa>=0.6.0->torch-audiomentations>=0.11.0->pyannote.audio) (1.8.0)\n",
      "Requirement already satisfied: soxr>=0.3.2 in /home/specc/.cache/pypoetry/virtualenvs/tts-Eh4q6c48-py3.11/lib/python3.11/site-packages (from librosa>=0.6.0->torch-audiomentations>=0.11.0->pyannote.audio) (0.3.7)\n",
      "Requirement already satisfied: lazy-loader>=0.1 in /home/specc/.cache/pypoetry/virtualenvs/tts-Eh4q6c48-py3.11/lib/python3.11/site-packages (from librosa>=0.6.0->torch-audiomentations>=0.11.0->pyannote.audio) (0.3)\n",
      "Requirement already satisfied: msgpack>=1.0 in /home/specc/.cache/pypoetry/virtualenvs/tts-Eh4q6c48-py3.11/lib/python3.11/site-packages (from librosa>=0.6.0->torch-audiomentations>=0.11.0->pyannote.audio) (1.0.7)\n",
      "Requirement already satisfied: setuptools in /home/specc/.cache/pypoetry/virtualenvs/tts-Eh4q6c48-py3.11/lib/python3.11/site-packages (from lightning-utilities<2.0,>=0.8.0->lightning>=2.0.1->pyannote.audio) (69.0.2)\n",
      "Requirement already satisfied: mdurl~=0.1 in /home/specc/.cache/pypoetry/virtualenvs/tts-Eh4q6c48-py3.11/lib/python3.11/site-packages (from markdown-it-py>=2.2.0->rich>=12.0.0->pyannote.audio) (0.1.2)\n",
      "Requirement already satisfied: contourpy>=1.0.1 in /home/specc/.cache/pypoetry/virtualenvs/tts-Eh4q6c48-py3.11/lib/python3.11/site-packages (from matplotlib>=2.0.0->pyannote.metrics>=3.2->pyannote.audio) (1.2.0)\n",
      "Requirement already satisfied: cycler>=0.10 in /home/specc/.cache/pypoetry/virtualenvs/tts-Eh4q6c48-py3.11/lib/python3.11/site-packages (from matplotlib>=2.0.0->pyannote.metrics>=3.2->pyannote.audio) (0.12.1)\n",
      "Requirement already satisfied: fonttools>=4.22.0 in /home/specc/.cache/pypoetry/virtualenvs/tts-Eh4q6c48-py3.11/lib/python3.11/site-packages (from matplotlib>=2.0.0->pyannote.metrics>=3.2->pyannote.audio) (4.45.1)\n",
      "Requirement already satisfied: kiwisolver>=1.3.1 in /home/specc/.cache/pypoetry/virtualenvs/tts-Eh4q6c48-py3.11/lib/python3.11/site-packages (from matplotlib>=2.0.0->pyannote.metrics>=3.2->pyannote.audio) (1.4.5)\n",
      "Requirement already satisfied: pillow>=8 in /home/specc/.cache/pypoetry/virtualenvs/tts-Eh4q6c48-py3.11/lib/python3.11/site-packages (from matplotlib>=2.0.0->pyannote.metrics>=3.2->pyannote.audio) (10.1.0)\n",
      "Requirement already satisfied: pyparsing>=2.3.1 in /home/specc/.cache/pypoetry/virtualenvs/tts-Eh4q6c48-py3.11/lib/python3.11/site-packages (from matplotlib>=2.0.0->pyannote.metrics>=3.2->pyannote.audio) (3.1.1)\n",
      "Requirement already satisfied: python-dateutil>=2.7 in /home/specc/.cache/pypoetry/virtualenvs/tts-Eh4q6c48-py3.11/lib/python3.11/site-packages (from matplotlib>=2.0.0->pyannote.metrics>=3.2->pyannote.audio) (2.8.2)\n",
      "Requirement already satisfied: alembic>=1.5.0 in /home/specc/.cache/pypoetry/virtualenvs/tts-Eh4q6c48-py3.11/lib/python3.11/site-packages (from optuna>=3.1->pyannote.pipeline>=3.0.1->pyannote.audio) (1.12.1)\n",
      "Requirement already satisfied: colorlog in /home/specc/.cache/pypoetry/virtualenvs/tts-Eh4q6c48-py3.11/lib/python3.11/site-packages (from optuna>=3.1->pyannote.pipeline>=3.0.1->pyannote.audio) (6.7.0)\n",
      "Requirement already satisfied: sqlalchemy>=1.3.0 in /home/specc/.cache/pypoetry/virtualenvs/tts-Eh4q6c48-py3.11/lib/python3.11/site-packages (from optuna>=3.1->pyannote.pipeline>=3.0.1->pyannote.audio) (2.0.23)\n",
      "Requirement already satisfied: pytz>=2020.1 in /home/specc/.cache/pypoetry/virtualenvs/tts-Eh4q6c48-py3.11/lib/python3.11/site-packages (from pandas>=0.19->pyannote.database>=5.0.1->pyannote.audio) (2023.3.post1)\n",
      "Requirement already satisfied: tzdata>=2022.1 in /home/specc/.cache/pypoetry/virtualenvs/tts-Eh4q6c48-py3.11/lib/python3.11/site-packages (from pandas>=0.19->pyannote.database>=5.0.1->pyannote.audio) (2023.3)\n",
      "Requirement already satisfied: threadpoolctl>=2.0.0 in /home/specc/.cache/pypoetry/virtualenvs/tts-Eh4q6c48-py3.11/lib/python3.11/site-packages (from scikit-learn>=0.17.1->pyannote.metrics>=3.2->pyannote.audio) (3.2.0)\n",
      "Requirement already satisfied: mpmath>=0.19 in /home/specc/.cache/pypoetry/virtualenvs/tts-Eh4q6c48-py3.11/lib/python3.11/site-packages (from sympy>=1.1->pyannote.metrics>=3.2->pyannote.audio) (1.3.0)\n",
      "Requirement already satisfied: primePy>=1.3 in /home/specc/.cache/pypoetry/virtualenvs/tts-Eh4q6c48-py3.11/lib/python3.11/site-packages (from torch-pitch-shift>=1.2.2->torch-audiomentations>=0.11.0->pyannote.audio) (1.3)\n",
      "Requirement already satisfied: click<9.0.0,>=7.1.1 in /home/specc/.cache/pypoetry/virtualenvs/tts-Eh4q6c48-py3.11/lib/python3.11/site-packages (from typer[all]>=0.2.1->pyannote.database>=5.0.1->pyannote.audio) (8.1.7)\n",
      "Requirement already satisfied: colorama<0.5.0,>=0.4.3 in /home/specc/.cache/pypoetry/virtualenvs/tts-Eh4q6c48-py3.11/lib/python3.11/site-packages (from typer[all]>=0.2.1->pyannote.database>=5.0.1->pyannote.audio) (0.4.6)\n",
      "Requirement already satisfied: shellingham<2.0.0,>=1.3.0 in /home/specc/.cache/pypoetry/virtualenvs/tts-Eh4q6c48-py3.11/lib/python3.11/site-packages (from typer[all]>=0.2.1->pyannote.database>=5.0.1->pyannote.audio) (1.5.4)\n",
      "Requirement already satisfied: ruamel.yaml>=0.17.28 in /home/specc/.cache/pypoetry/virtualenvs/tts-Eh4q6c48-py3.11/lib/python3.11/site-packages (from hyperpyyaml->speechbrain>=0.5.14->pyannote.audio) (0.18.5)\n",
      "Requirement already satisfied: MarkupSafe>=2.0 in /home/specc/.cache/pypoetry/virtualenvs/tts-Eh4q6c48-py3.11/lib/python3.11/site-packages (from jinja2->torch>=2.0.0->pyannote.audio) (2.1.3)\n",
      "Requirement already satisfied: charset-normalizer<4,>=2 in /home/specc/.cache/pypoetry/virtualenvs/tts-Eh4q6c48-py3.11/lib/python3.11/site-packages (from requests->huggingface-hub>=0.13.0->pyannote.audio) (3.3.2)\n",
      "Requirement already satisfied: idna<4,>=2.5 in /home/specc/.cache/pypoetry/virtualenvs/tts-Eh4q6c48-py3.11/lib/python3.11/site-packages (from requests->huggingface-hub>=0.13.0->pyannote.audio) (3.6)\n",
      "Requirement already satisfied: urllib3<3,>=1.21.1 in /home/specc/.cache/pypoetry/virtualenvs/tts-Eh4q6c48-py3.11/lib/python3.11/site-packages (from requests->huggingface-hub>=0.13.0->pyannote.audio) (2.1.0)\n",
      "Requirement already satisfied: certifi>=2017.4.17 in /home/specc/.cache/pypoetry/virtualenvs/tts-Eh4q6c48-py3.11/lib/python3.11/site-packages (from requests->huggingface-hub>=0.13.0->pyannote.audio) (2023.11.17)\n",
      "Requirement already satisfied: attrs>=17.3.0 in /home/specc/.cache/pypoetry/virtualenvs/tts-Eh4q6c48-py3.11/lib/python3.11/site-packages (from aiohttp!=4.0.0a0,!=4.0.0a1->fsspec>=2023.5.0->huggingface-hub>=0.13.0->pyannote.audio) (23.1.0)\n",
      "Requirement already satisfied: multidict<7.0,>=4.5 in /home/specc/.cache/pypoetry/virtualenvs/tts-Eh4q6c48-py3.11/lib/python3.11/site-packages (from aiohttp!=4.0.0a0,!=4.0.0a1->fsspec>=2023.5.0->huggingface-hub>=0.13.0->pyannote.audio) (6.0.4)\n",
      "Requirement already satisfied: yarl<2.0,>=1.0 in /home/specc/.cache/pypoetry/virtualenvs/tts-Eh4q6c48-py3.11/lib/python3.11/site-packages (from aiohttp!=4.0.0a0,!=4.0.0a1->fsspec>=2023.5.0->huggingface-hub>=0.13.0->pyannote.audio) (1.9.3)\n",
      "Requirement already satisfied: frozenlist>=1.1.1 in /home/specc/.cache/pypoetry/virtualenvs/tts-Eh4q6c48-py3.11/lib/python3.11/site-packages (from aiohttp!=4.0.0a0,!=4.0.0a1->fsspec>=2023.5.0->huggingface-hub>=0.13.0->pyannote.audio) (1.4.0)\n",
      "Requirement already satisfied: aiosignal>=1.1.2 in /home/specc/.cache/pypoetry/virtualenvs/tts-Eh4q6c48-py3.11/lib/python3.11/site-packages (from aiohttp!=4.0.0a0,!=4.0.0a1->fsspec>=2023.5.0->huggingface-hub>=0.13.0->pyannote.audio) (1.3.1)\n",
      "Requirement already satisfied: Mako in /home/specc/.cache/pypoetry/virtualenvs/tts-Eh4q6c48-py3.11/lib/python3.11/site-packages (from alembic>=1.5.0->optuna>=3.1->pyannote.pipeline>=3.0.1->pyannote.audio) (1.3.0)\n",
      "Requirement already satisfied: llvmlite<0.42,>=0.41.0dev0 in /home/specc/.cache/pypoetry/virtualenvs/tts-Eh4q6c48-py3.11/lib/python3.11/site-packages (from numba>=0.51.0->librosa>=0.6.0->torch-audiomentations>=0.11.0->pyannote.audio) (0.41.1)\n",
      "Requirement already satisfied: platformdirs>=2.5.0 in /home/specc/.cache/pypoetry/virtualenvs/tts-Eh4q6c48-py3.11/lib/python3.11/site-packages (from pooch>=1.0->librosa>=0.6.0->torch-audiomentations>=0.11.0->pyannote.audio) (4.0.0)\n",
      "Requirement already satisfied: six>=1.5 in /home/specc/.cache/pypoetry/virtualenvs/tts-Eh4q6c48-py3.11/lib/python3.11/site-packages (from python-dateutil>=2.7->matplotlib>=2.0.0->pyannote.metrics>=3.2->pyannote.audio) (1.16.0)\n",
      "Requirement already satisfied: ruamel.yaml.clib>=0.2.7 in /home/specc/.cache/pypoetry/virtualenvs/tts-Eh4q6c48-py3.11/lib/python3.11/site-packages (from ruamel.yaml>=0.17.28->hyperpyyaml->speechbrain>=0.5.14->pyannote.audio) (0.2.8)\n",
      "Requirement already satisfied: greenlet!=0.4.17 in /home/specc/.cache/pypoetry/virtualenvs/tts-Eh4q6c48-py3.11/lib/python3.11/site-packages (from sqlalchemy>=1.3.0->optuna>=3.1->pyannote.pipeline>=3.0.1->pyannote.audio) (3.0.1)\n",
      "\n",
      "\u001b[1m[\u001b[0m\u001b[34;49mnotice\u001b[0m\u001b[1;39;49m]\u001b[0m\u001b[39;49m A new release of pip is available: \u001b[0m\u001b[31;49m23.2.1\u001b[0m\u001b[39;49m -> \u001b[0m\u001b[32;49m23.3.2\u001b[0m\n",
      "\u001b[1m[\u001b[0m\u001b[34;49mnotice\u001b[0m\u001b[1;39;49m]\u001b[0m\u001b[39;49m To update, run: \u001b[0m\u001b[32;49mpip install --upgrade pip\u001b[0m\n",
      "Requirement already satisfied: torch in /home/specc/.cache/pypoetry/virtualenvs/tts-Eh4q6c48-py3.11/lib/python3.11/site-packages (2.1.2)\n",
      "Requirement already satisfied: filelock in /home/specc/.cache/pypoetry/virtualenvs/tts-Eh4q6c48-py3.11/lib/python3.11/site-packages (from torch) (3.13.1)\n",
      "Requirement already satisfied: typing-extensions in /home/specc/.cache/pypoetry/virtualenvs/tts-Eh4q6c48-py3.11/lib/python3.11/site-packages (from torch) (4.8.0)\n",
      "Requirement already satisfied: sympy in /home/specc/.cache/pypoetry/virtualenvs/tts-Eh4q6c48-py3.11/lib/python3.11/site-packages (from torch) (1.12)\n",
      "Requirement already satisfied: networkx in /home/specc/.cache/pypoetry/virtualenvs/tts-Eh4q6c48-py3.11/lib/python3.11/site-packages (from torch) (3.2.1)\n",
      "Requirement already satisfied: jinja2 in /home/specc/.cache/pypoetry/virtualenvs/tts-Eh4q6c48-py3.11/lib/python3.11/site-packages (from torch) (3.1.2)\n",
      "Requirement already satisfied: fsspec in /home/specc/.cache/pypoetry/virtualenvs/tts-Eh4q6c48-py3.11/lib/python3.11/site-packages (from torch) (2023.10.0)\n",
      "Requirement already satisfied: nvidia-cuda-nvrtc-cu12==12.1.105 in /home/specc/.cache/pypoetry/virtualenvs/tts-Eh4q6c48-py3.11/lib/python3.11/site-packages (from torch) (12.1.105)\n",
      "Requirement already satisfied: nvidia-cuda-runtime-cu12==12.1.105 in /home/specc/.cache/pypoetry/virtualenvs/tts-Eh4q6c48-py3.11/lib/python3.11/site-packages (from torch) (12.1.105)\n",
      "Requirement already satisfied: nvidia-cuda-cupti-cu12==12.1.105 in /home/specc/.cache/pypoetry/virtualenvs/tts-Eh4q6c48-py3.11/lib/python3.11/site-packages (from torch) (12.1.105)\n",
      "Requirement already satisfied: nvidia-cudnn-cu12==8.9.2.26 in /home/specc/.cache/pypoetry/virtualenvs/tts-Eh4q6c48-py3.11/lib/python3.11/site-packages (from torch) (8.9.2.26)\n",
      "Requirement already satisfied: nvidia-cublas-cu12==12.1.3.1 in /home/specc/.cache/pypoetry/virtualenvs/tts-Eh4q6c48-py3.11/lib/python3.11/site-packages (from torch) (12.1.3.1)\n",
      "Requirement already satisfied: nvidia-cufft-cu12==11.0.2.54 in /home/specc/.cache/pypoetry/virtualenvs/tts-Eh4q6c48-py3.11/lib/python3.11/site-packages (from torch) (11.0.2.54)\n",
      "Requirement already satisfied: nvidia-curand-cu12==10.3.2.106 in /home/specc/.cache/pypoetry/virtualenvs/tts-Eh4q6c48-py3.11/lib/python3.11/site-packages (from torch) (10.3.2.106)\n",
      "Requirement already satisfied: nvidia-cusolver-cu12==11.4.5.107 in /home/specc/.cache/pypoetry/virtualenvs/tts-Eh4q6c48-py3.11/lib/python3.11/site-packages (from torch) (11.4.5.107)\n",
      "Requirement already satisfied: nvidia-cusparse-cu12==12.1.0.106 in /home/specc/.cache/pypoetry/virtualenvs/tts-Eh4q6c48-py3.11/lib/python3.11/site-packages (from torch) (12.1.0.106)\n",
      "Requirement already satisfied: nvidia-nccl-cu12==2.18.1 in /home/specc/.cache/pypoetry/virtualenvs/tts-Eh4q6c48-py3.11/lib/python3.11/site-packages (from torch) (2.18.1)\n",
      "Requirement already satisfied: nvidia-nvtx-cu12==12.1.105 in /home/specc/.cache/pypoetry/virtualenvs/tts-Eh4q6c48-py3.11/lib/python3.11/site-packages (from torch) (12.1.105)\n",
      "Requirement already satisfied: triton==2.1.0 in /home/specc/.cache/pypoetry/virtualenvs/tts-Eh4q6c48-py3.11/lib/python3.11/site-packages (from torch) (2.1.0)\n",
      "Requirement already satisfied: nvidia-nvjitlink-cu12 in /home/specc/.cache/pypoetry/virtualenvs/tts-Eh4q6c48-py3.11/lib/python3.11/site-packages (from nvidia-cusolver-cu12==11.4.5.107->torch) (12.3.101)\n",
      "Requirement already satisfied: MarkupSafe>=2.0 in /home/specc/.cache/pypoetry/virtualenvs/tts-Eh4q6c48-py3.11/lib/python3.11/site-packages (from jinja2->torch) (2.1.3)\n",
      "Requirement already satisfied: mpmath>=0.19 in /home/specc/.cache/pypoetry/virtualenvs/tts-Eh4q6c48-py3.11/lib/python3.11/site-packages (from sympy->torch) (1.3.0)\n",
      "\n",
      "\u001b[1m[\u001b[0m\u001b[34;49mnotice\u001b[0m\u001b[1;39;49m]\u001b[0m\u001b[39;49m A new release of pip is available: \u001b[0m\u001b[31;49m23.2.1\u001b[0m\u001b[39;49m -> \u001b[0m\u001b[32;49m23.3.2\u001b[0m\n",
      "\u001b[1m[\u001b[0m\u001b[34;49mnotice\u001b[0m\u001b[1;39;49m]\u001b[0m\u001b[39;49m To update, run: \u001b[0m\u001b[32;49mpip install --upgrade pip\u001b[0m\n",
      "Requirement already satisfied: python-dotenv in /home/specc/.cache/pypoetry/virtualenvs/tts-Eh4q6c48-py3.11/lib/python3.11/site-packages (1.0.0)\n",
      "\n",
      "\u001b[1m[\u001b[0m\u001b[34;49mnotice\u001b[0m\u001b[1;39;49m]\u001b[0m\u001b[39;49m A new release of pip is available: \u001b[0m\u001b[31;49m23.2.1\u001b[0m\u001b[39;49m -> \u001b[0m\u001b[32;49m23.3.2\u001b[0m\n",
      "\u001b[1m[\u001b[0m\u001b[34;49mnotice\u001b[0m\u001b[1;39;49m]\u001b[0m\u001b[39;49m To update, run: \u001b[0m\u001b[32;49mpip install --upgrade pip\u001b[0m\n"
     ]
    }
   ],
   "source": [
    "!pip install pyannote.audio\n",
    "!pip install torch\n",
    "!pip install python-dotenv"
   ]
  },
  {
   "cell_type": "code",
   "execution_count": 2,
   "metadata": {},
   "outputs": [
    {
     "name": "stderr",
     "output_type": "stream",
     "text": [
      "/home/specc/.cache/pypoetry/virtualenvs/tts-Eh4q6c48-py3.11/lib/python3.11/site-packages/pyannote/audio/core/io.py:43: UserWarning: torchaudio._backend.set_audio_backend has been deprecated. With dispatcher enabled, this function is no-op. You can remove the function call.\n",
      "  torchaudio.set_audio_backend(\"soundfile\")\n",
      "/home/specc/.cache/pypoetry/virtualenvs/tts-Eh4q6c48-py3.11/lib/python3.11/site-packages/torch_audiomentations/utils/io.py:27: UserWarning: torchaudio._backend.set_audio_backend has been deprecated. With dispatcher enabled, this function is no-op. You can remove the function call.\n",
      "  torchaudio.set_audio_backend(\"soundfile\")\n"
     ]
    },
    {
     "data": {
      "text/plain": [
       "True"
      ]
     },
     "execution_count": 2,
     "metadata": {},
     "output_type": "execute_result"
    }
   ],
   "source": [
    "\n",
    "import json\n",
    "import os\n",
    "from pathlib import Path\n",
    "from dotenv import load_dotenv\n",
    "import gc\n",
    "import pprint\n",
    "\n",
    "import torch\n",
    "from tqdm import tqdm\n",
    "from pyannote.audio import Pipeline\n",
    "from pyannote.audio.pipelines.utils.hook import ProgressHook\n",
    "\n",
    "load_dotenv()"
   ]
  },
  {
   "cell_type": "code",
   "execution_count": 3,
   "metadata": {},
   "outputs": [],
   "source": [
    "# device = \"cuda:0\" if torch.cuda.is_available() else \"cpu\"\n",
    "device = \"cpu\""
   ]
  },
  {
   "cell_type": "code",
   "execution_count": 4,
   "metadata": {},
   "outputs": [
    {
     "data": {
      "text/plain": [
       "<pyannote.audio.pipelines.speaker_diarization.SpeakerDiarization at 0x7f073e398690>"
      ]
     },
     "execution_count": 4,
     "metadata": {},
     "output_type": "execute_result"
    }
   ],
   "source": [
    "diarization_pipe = Pipeline.from_pretrained(\n",
    "    \"pyannote/speaker-diarization-3.1\",\n",
    "    use_auth_token=os.environ.get(\"HUGGINGFACE_API_KEY\"),\n",
    ")\n",
    "\n",
    "diarization_pipe.embeddings_batch_size = 1\n",
    "\n",
    "diarization_pipe.to(torch.device(\"cuda\"))"
   ]
  },
  {
   "cell_type": "code",
   "execution_count": 6,
   "metadata": {},
   "outputs": [
    {
     "data": {
      "application/vnd.jupyter.widget-view+json": {
       "model_id": "c9cc216c2ead4181863b849ffa757fb1",
       "version_major": 2,
       "version_minor": 0
      },
      "text/plain": [
       "Output()"
      ]
     },
     "metadata": {},
     "output_type": "display_data"
    },
    {
     "data": {
      "text/html": [
       "<pre style=\"white-space:pre;overflow-x:auto;line-height:normal;font-family:Menlo,'DejaVu Sans Mono',consolas,'Courier New',monospace\"></pre>\n"
      ],
      "text/plain": []
     },
     "metadata": {},
     "output_type": "display_data"
    },
    {
     "data": {
      "text/html": [
       "<pre style=\"white-space:pre;overflow-x:auto;line-height:normal;font-family:Menlo,'DejaVu Sans Mono',consolas,'Courier New',monospace\">\n",
       "</pre>\n"
      ],
      "text/plain": [
       "\n"
      ]
     },
     "metadata": {},
     "output_type": "display_data"
    }
   ],
   "source": [
    "with ProgressHook() as hook:\n",
    "    diarization = diarization_pipe(\"../data/cache/lck_sample_01.mp3\", max_speakers=2, hook=hook)"
   ]
  },
  {
   "cell_type": "code",
   "execution_count": 8,
   "metadata": {},
   "outputs": [
    {
     "name": "stderr",
     "output_type": "stream",
     "text": [
      "7it [00:00, 67650.06it/s]\n"
     ]
    }
   ],
   "source": [
    "data = {\"lck_sample_01.mp3\": []}\n",
    "\n",
    "for turn, _, speaker in tqdm(diarization.itertracks(yield_label=True)):\n",
    "    # data[\"lck_sample_01.mp3\"].append({\"start\": turn.start, \"end\": turn.end, \"speaker\": speaker})\n",
    "    data.get(\"lck_sample_01.mp3\", []).append({\"start\": turn.start, \"end\": turn.end, \"speaker\": speaker})"
   ]
  },
  {
   "cell_type": "code",
   "execution_count": 9,
   "metadata": {},
   "outputs": [
    {
     "data": {
      "text/plain": [
       "[{'start': 0.008488964346349746,\n",
       "  'end': 17.818336162988118,\n",
       "  'speaker': 'SPEAKER_00'},\n",
       " {'start': 19.09168081494058,\n",
       "  'end': 24.01528013582343,\n",
       "  'speaker': 'SPEAKER_00'},\n",
       " {'start': 24.660441426146015,\n",
       "  'end': 28.582342954159593,\n",
       "  'speaker': 'SPEAKER_00'},\n",
       " {'start': 29.56706281833616,\n",
       "  'end': 30.212224108658745,\n",
       "  'speaker': 'SPEAKER_00'},\n",
       " {'start': 30.840407470288625,\n",
       "  'end': 44.7962648556876,\n",
       "  'speaker': 'SPEAKER_00'},\n",
       " {'start': 46.511035653650254,\n",
       "  'end': 51.40067911714771,\n",
       "  'speaker': 'SPEAKER_00'},\n",
       " {'start': 56.44312393887946,\n",
       "  'end': 59.99151103565365,\n",
       "  'speaker': 'SPEAKER_00'}]"
      ]
     },
     "execution_count": 9,
     "metadata": {},
     "output_type": "execute_result"
    }
   ],
   "source": [
    "data.get(\"lck_sample_01.mp3\")"
   ]
  },
  {
   "cell_type": "code",
   "execution_count": 10,
   "metadata": {},
   "outputs": [
    {
     "data": {
      "application/vnd.jupyter.widget-view+json": {
       "model_id": "cc97a8e72bfb48dd82cfa237ddd3661f",
       "version_major": 2,
       "version_minor": 0
      },
      "text/plain": [
       "Output()"
      ]
     },
     "metadata": {},
     "output_type": "display_data"
    },
    {
     "ename": "",
     "evalue": "",
     "output_type": "error",
     "traceback": [
      "\u001b[1;31mThe Kernel crashed while executing code in the the current cell or a previous cell. Please review the code in the cell(s) to identify a possible cause of the failure. Click <a href='https://aka.ms/vscodeJupyterKernelCrash'>here</a> for more info. View Jupyter <a href='command:jupyter.viewOutput'>log</a> for further details."
     ]
    }
   ],
   "source": [
    "with ProgressHook() as hook:\n",
    "    diarization = diarization_pipe(\"../data/cache/lck_stream_2023_12_22.mp3\", max_speakers=2, hook=hook)"
   ]
  },
  {
   "cell_type": "code",
   "execution_count": null,
   "metadata": {},
   "outputs": [],
   "source": [
    "for turn, _, speaker in tqdm(diarization.itertracks(yield_label=True)):\n",
    "    data.get(\"lck_stream_2023_12_22.mp3\", []).append({\"start\": turn.start, \"end\": turn.end, \"speaker\": speaker})"
   ]
  },
  {
   "cell_type": "code",
   "execution_count": null,
   "metadata": {},
   "outputs": [],
   "source": [
    "OUT_PATH = Path(\"data/temp/diarization_data.json\")\n",
    "\n",
    "if OUT_PATH.exists():\n",
    "    with open(OUT_PATH, \"r\") as f:\n",
    "        data = json.load(f)\n",
    "else:\n",
    "    existing_data = {}\n",
    "\n",
    "existing_data.update(data)    \n",
    "\n",
    "with open(OUT_PATH, \"w\") as f:\n",
    "    json.dump(existing_data, f, indent=4)\n"
   ]
  }
 ],
 "metadata": {
  "kernelspec": {
   "display_name": "tts-Eh4q6c48-py3.11",
   "language": "python",
   "name": "python3"
  },
  "language_info": {
   "codemirror_mode": {
    "name": "ipython",
    "version": 3
   },
   "file_extension": ".py",
   "mimetype": "text/x-python",
   "name": "python",
   "nbconvert_exporter": "python",
   "pygments_lexer": "ipython3",
   "version": "3.11.6"
  }
 },
 "nbformat": 4,
 "nbformat_minor": 2
}
