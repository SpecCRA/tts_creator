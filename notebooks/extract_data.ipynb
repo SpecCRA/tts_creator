{
 "cells": [
  {
   "cell_type": "markdown",
   "metadata": {},
   "source": [
    "# Setup"
   ]
  },
  {
   "cell_type": "code",
   "execution_count": 1,
   "metadata": {},
   "outputs": [],
   "source": [
    "import math\n",
    "import os\n",
    "from pathlib import Path\n",
    "import gc\n",
    "\n",
    "from moviepy.editor import AudioFileClip, VideoFileClip\n",
    "from pydub import AudioSegment\n",
    "from tqdm import tqdm"
   ]
  },
  {
   "cell_type": "code",
   "execution_count": 5,
   "metadata": {},
   "outputs": [],
   "source": [
    "# Get total duration\n",
    "# Split into 3 minute segments\n",
    "\n",
    "def split_audio(audio_filepath: str, output_dir: str, output_filename: str, segment_duration: float) -> None:\n",
    "    file = AudioSegment.from_file(audio_filepath)\n",
    "    tot_duration = len(file)\n",
    "    segment_duration_ms = 180000\n",
    "    n_segments = math.ceil(tot_duration / segment_duration_ms)\n",
    "    for i in tqdm(range(n_segments)):\n",
    "        start = i * segment_duration_ms\n",
    "        end = start + segment_duration_ms\n",
    "        segment = file[start:end]\n",
    "        segment.export(f\"{output_dir}/{output_filename}_part{i:02d}.wav\", format=\"wav\")\n",
    "        \n",
    "def conv_video(video_filepath: str, output_dir: str, output_filename: str, video_present=True) -> None:\n",
    "    if video_present:\n",
    "        clip = VideoFileClip(video_filepath)\n",
    "        clip.audio.write_audiofile(f\"{output_dir}/{output_filename}.wav\")\n",
    "    else:\n",
    "        clip = AudioFileClip(video_filepath)\n",
    "        clip.write_audiofile(f\"{output_dir}/{output_filename}.wav\")\n",
    "    "
   ]
  },
  {
   "cell_type": "code",
   "execution_count": 7,
   "metadata": {},
   "outputs": [
    {
     "name": "stderr",
     "output_type": "stream",
     "text": [
      "chunk:  70%|██████▉   | 317479/454282 [05:30<01:13, 1850.92it/s, now=None]"
     ]
    },
    {
     "name": "stdout",
     "output_type": "stream",
     "text": [
      "MoviePy - Writing audio in ../data/cache//lck_stream_01.wav\n"
     ]
    },
    {
     "name": "stderr",
     "output_type": "stream",
     "text": []
    },
    {
     "name": "stderr",
     "output_type": "stream",
     "text": [
      "chunk:  70%|██████▉   | 317479/454282 [06:46<01:13, 1850.92it/s, now=None]"
     ]
    },
    {
     "name": "stdout",
     "output_type": "stream",
     "text": [
      "MoviePy - Done.\n"
     ]
    },
    {
     "name": "stderr",
     "output_type": "stream",
     "text": [
      "100%|██████████| 66/66 [00:03<00:00, 19.01it/s]\n"
     ]
    }
   ],
   "source": [
    "conv_video(\"../data/raw/lck_stream_01.mkv\", \"../data/cache/\", \"lck_stream_01\", video_present=False)\n",
    "split_audio(\"../data/cache/lck_stream_01.wav\", \"../data/processed/\", \"lck_stream_01\", 50)"
   ]
  },
  {
   "cell_type": "code",
   "execution_count": 8,
   "metadata": {},
   "outputs": [
    {
     "name": "stderr",
     "output_type": "stream",
     "text": [
      "chunk:  70%|██████▉   | 317479/454282 [06:53<01:13, 1850.92it/s, now=None]"
     ]
    },
    {
     "name": "stdout",
     "output_type": "stream",
     "text": [
      "MoviePy - Writing audio in ../data/cache//lck_stream_02.wav\n"
     ]
    },
    {
     "name": "stderr",
     "output_type": "stream",
     "text": []
    },
    {
     "name": "stderr",
     "output_type": "stream",
     "text": [
      "chunk:  70%|██████▉   | 317479/454282 [09:07<01:13, 1850.92it/s, now=None]"
     ]
    },
    {
     "name": "stdout",
     "output_type": "stream",
     "text": [
      "MoviePy - Done.\n"
     ]
    },
    {
     "name": "stderr",
     "output_type": "stream",
     "text": [
      "100%|██████████| 115/115 [00:07<00:00, 14.79it/s]\n"
     ]
    }
   ],
   "source": [
    "conv_video(\"../data/raw/lck_stream_02.mkv\", \"../data/cache/\", \"lck_stream_02\", video_present=False)\n",
    "split_audio(\"../data/cache/lck_stream_02.wav\", \"../data/processed\", \"lck_stream_02\", 50)"
   ]
  },
  {
   "cell_type": "code",
   "execution_count": 5,
   "metadata": {},
   "outputs": [
    {
     "data": {
      "text/plain": [
       "10"
      ]
     },
     "execution_count": 5,
     "metadata": {},
     "output_type": "execute_result"
    }
   ],
   "source": [
    "gc.collect()"
   ]
  }
 ],
 "metadata": {
  "kernelspec": {
   "display_name": "tts-Eh4q6c48-py3.11",
   "language": "python",
   "name": "python3"
  },
  "language_info": {
   "codemirror_mode": {
    "name": "ipython",
    "version": 3
   },
   "file_extension": ".py",
   "mimetype": "text/x-python",
   "name": "python",
   "nbconvert_exporter": "python",
   "pygments_lexer": "ipython3",
   "version": "3.11.6"
  }
 },
 "nbformat": 4,
 "nbformat_minor": 2
}
