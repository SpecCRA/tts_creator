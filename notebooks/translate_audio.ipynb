{
 "cells": [
  {
   "cell_type": "markdown",
   "metadata": {},
   "source": [
    "# Steps"
   ]
  },
  {
   "cell_type": "markdown",
   "metadata": {},
   "source": [
    "1. Get enough data - LCKRacing's VODs, extracted with just audio\n",
    "    * Work off ACC first - race engineer is a challenge\n",
    "    * Dirt secondary - too much Phil in the background \n",
    "2. Filter data just for when LCKRacing is speaking, no other voices (ACC race engineer, Phil in DR2) - Maybe use audio recognition for when LCKRacing \n",
    "    * Only keep when LCKRacing is talking\n",
    "    * cut into 5 minute segments\n",
    "3. Convert speech to text - speech recognition models\n",
    "4. Train a text to speech model to speak like Charlie\n",
    "5. Make it available to RollerBot\n"
   ]
  },
  {
   "cell_type": "markdown",
   "metadata": {},
   "source": [
    "# Notes"
   ]
  },
  {
   "cell_type": "markdown",
   "metadata": {},
   "source": [
    "* Ensure we get a lot o fversions of bollocks\n",
    "* Combine clips from GT7 - mostly engine noise"
   ]
  },
  {
   "cell_type": "markdown",
   "metadata": {},
   "source": [
    "# VODs and Clips\n",
    "\n",
    "* https://clips.twitch.tv/LongUninterestedBasenjiSoBayed-zFJ1H1-oKRo5aS_w"
   ]
  },
  {
   "cell_type": "markdown",
   "metadata": {},
   "source": [
    "# Text to speech models\n",
    "\n",
    "* bark-small (https://huggingface.co/suno/bark-small?text=bollocks)\n",
    "* ESPnet2 TTS pretrained model (https://huggingface.co/espnet/kan-bayashi_ljspeech_vits)\n",
    "* nvidia fastPitch (https://huggingface.co/nvidia/tts_en_fastpitch) - code only"
   ]
  },
  {
   "cell_type": "markdown",
   "metadata": {},
   "source": [
    "# Audio De-Noising Models"
   ]
  },
  {
   "cell_type": "markdown",
   "metadata": {},
   "source": [
    "* "
   ]
  },
  {
   "cell_type": "markdown",
   "metadata": {},
   "source": [
    "# Speech recognition models\n",
    "\n",
    "* whipser-v2 (https://huggingface.co/openai/whisper-large-v2)\n",
    "    * try tiny first"
   ]
  },
  {
   "cell_type": "markdown",
   "metadata": {},
   "source": [
    "# Tools for Video Clipping"
   ]
  },
  {
   "cell_type": "markdown",
   "metadata": {},
   "source": [
    "MoviePy (https://zulko.github.io/moviepy/)"
   ]
  },
  {
   "cell_type": "markdown",
   "metadata": {},
   "source": [
    "# To Do\n",
    "\n",
    "* Pre-clipped DR2 video (1-2 minutes)\n",
    "* Run through speech recognition to see how many pace notes are taken\n",
    "* Try out more speech to text models in code"
   ]
  }
 ],
 "metadata": {
  "language_info": {
   "name": "python"
  }
 },
 "nbformat": 4,
 "nbformat_minor": 2
}
